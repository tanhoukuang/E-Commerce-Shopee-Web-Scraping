{
 "cells": [
  {
   "cell_type": "code",
   "execution_count": 1,
   "id": "6fbb09e1",
   "metadata": {},
   "outputs": [],
   "source": [
    "import pandas as pd\n",
    "import requests\n",
    "from bs4 import BeautifulSoup\n",
    "import selenium\n",
    "from selenium import webdriver\n",
    "import time\n",
    "\n",
    "# generate url for product\n",
    "def get_url(product):\n",
    "    product = product.replace(' ','%20') #open shopee and search an item and can see that wide space replace by %20\n",
    "    template = 'https://shopee.com.my/search?keyword={}'\n",
    "    url = template.format(product)\n",
    "    return url\n",
    "\n",
    "def get_all_products(card):\n",
    "    pImg = card.find('img')\n",
    "    product_image = pImg['src']\n",
    "    product_name = card.find('div','_10Wbs- _5SSWfi UjjMrh').text.strip()\n",
    "    product_name = product_name.encode('ascii','ignore')  #remove emoji from line 19 to line 20\n",
    "    product_name = str(product_name,'utf-8')\n",
    "    product_price = card.find('div','zp9xm9 xSxKlK _1heB4J').text.strip()\n",
    "    anchor_tag = card.a.get('href')\n",
    "    product_buy_link = 'https://shopee.com.my'+anchor_tag\n",
    "    \n",
    "    product_info = (product_image,product_name,product_price,product_buy_link)\n",
    "    \n",
    "    return product_info\n",
    "\n",
    "def main(product):\n",
    "    records = []\n",
    "    url = get_url(product)\n",
    "    \n",
    "    driver = webdriver.Chrome(executable_path='chromedriver.exe')\n",
    "    driver.get(url)\n",
    "    driver.maximize_window()\n",
    "    # wait for 5 seconds\n",
    "    time.sleep(5)\n",
    "    btn = driver.find_element_by_xpath('//*[@id=\"modal\"]/div[1]/div[1]/div/div[3]/div[1]/button')\n",
    "    btn.click()\n",
    "\n",
    "\n",
    "    #Define an initial value   #link: https://wwwhttps://www.programmersought.com/article/10507414140/.programmersought.com/article/10507414140/\n",
    "    temp_height=0\n",
    "    \n",
    "    while True:\n",
    "        #Looping down the scroll bar\n",
    "        driver.execute_script(\"window.scrollBy(0,1000)\")\n",
    "        #sleep and let the scroll bar react\n",
    "        time.sleep(5)\n",
    "        #Get the distance of the current scroll bar from the top\n",
    "        check_height = driver.execute_script(\"return document.documentElement.scrollTop || window.pageYOffset || document.body.scrollTop;\")\n",
    "        #If the two are equal to the end\n",
    "        if check_height==temp_height:\n",
    "            break\n",
    "        temp_height=check_height\n",
    "    \n",
    "    time.sleep(10)      #wait for awhile as the page not fully loaded\n",
    "\n",
    "    # create a BeautifulSoup object\n",
    "    soup = BeautifulSoup(driver.page_source , 'html.parser')\n",
    "    product_cards = soup.find_all('div','col-xs-2-4')\n",
    "    \n",
    "    for everyCard in product_cards:\n",
    "        productDetails = get_all_products(everyCard)\n",
    "        records.append(productDetails)\n",
    "\n",
    "    # Here We Are Using Pandas Data Frame To Save All The Product Information In A CSV File\n",
    "    \n",
    "    col = ['Product_Image','Product_Name','Product_Price','Product_Buy_Link']\n",
    "    \n",
    "    shopee_data = pd.DataFrame(records,columns=col)\n",
    "    \n",
    "    shopee_data.to_csv('D:\\\\ShopeeData.csv',encoding='utf-8')\n",
    "        "
   ]
  },
  {
   "cell_type": "code",
   "execution_count": 2,
   "id": "92c94f38",
   "metadata": {},
   "outputs": [
    {
     "name": "stdout",
     "output_type": "stream",
     "text": [
      "Enter Product Looking For : ram card\n"
     ]
    }
   ],
   "source": [
    "product = input('Enter Product Looking For : ')\n",
    "main(product)"
   ]
  }
 ],
 "metadata": {
  "kernelspec": {
   "display_name": "Python 3",
   "language": "python",
   "name": "python3"
  },
  "language_info": {
   "codemirror_mode": {
    "name": "ipython",
    "version": 3
   },
   "file_extension": ".py",
   "mimetype": "text/x-python",
   "name": "python",
   "nbconvert_exporter": "python",
   "pygments_lexer": "ipython3",
   "version": "3.8.8"
  }
 },
 "nbformat": 4,
 "nbformat_minor": 5
}
