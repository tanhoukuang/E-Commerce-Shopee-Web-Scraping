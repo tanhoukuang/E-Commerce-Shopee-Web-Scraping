{
 "cells": [
  {
   "cell_type": "code",
   "execution_count": 1,
   "id": "14c26b1d",
   "metadata": {},
   "outputs": [
    {
     "name": "stdout",
     "output_type": "stream",
     "text": [
      "Requirement already satisfied: selenium in c:\\users\\msi\\anaconda3\\lib\\site-packages (3.141.0)\n",
      "Requirement already satisfied: urllib3 in c:\\users\\msi\\anaconda3\\lib\\site-packages (from selenium) (1.26.4)\n"
     ]
    }
   ],
   "source": [
    "# Install Selenium\n",
    "\n",
    "!pip install selenium"
   ]
  },
  {
   "cell_type": "code",
   "execution_count": 2,
   "id": "b8e33634",
   "metadata": {},
   "outputs": [],
   "source": [
    "# Web Driver - provide a platform to launch perform task in speciifc browser\n",
    "# Step 2 Downlaod Web Driver \n",
    "# Download link diff btween chrome and fox, so better use chrome\n",
    "# Check version of chrom must be 93"
   ]
  },
  {
   "cell_type": "code",
   "execution_count": 3,
   "id": "5ca11368",
   "metadata": {},
   "outputs": [],
   "source": [
    "# Web Srapping For Shopee\n",
    "\n",
    "import pandas as pd\n",
    "import requests\n",
    "from bs4 import BeautifulSoup\n",
    "import selenium\n",
    "from selenium import webdriver\n",
    "import time "
   ]
  },
  {
   "cell_type": "code",
   "execution_count": 4,
   "id": "11f0023a",
   "metadata": {},
   "outputs": [],
   "source": [
    "driver = webdriver.Chrome(executable_path='chromedriver.exe')\n",
    "driver.get('https://shopee.com.my/search?keyword=jeans')\n",
    "# wait for 5 seconds\n",
    "time.sleep(5)\n",
    "btn = driver.find_element_by_xpath('//*[@id=\"modal\"]/div[1]/div[1]/div/div[3]/div[1]/button')\n",
    "btn.click()              #power of selenium \n",
    "driver.maximize_window()      # if this code is working then driver is working fine"
   ]
  },
  {
   "cell_type": "code",
   "execution_count": 5,
   "id": "178da5d2",
   "metadata": {},
   "outputs": [],
   "source": [
    "# Note Pad\n",
    "#//*[@id=\"modal\"]/div[1]/div[1]/div/div[3]/div[1]/button        #this code is indicate over pressenglis button\n",
    "# for above code, reference additional note"
   ]
  },
  {
   "cell_type": "code",
   "execution_count": 6,
   "id": "ba635fe1",
   "metadata": {},
   "outputs": [],
   "source": [
    "## 9 Sep 11.07am use selenium scraping e commerce web ##\n",
    "# 2 ways : selenium and BeautifulSoup"
   ]
  },
  {
   "cell_type": "code",
   "execution_count": 7,
   "id": "baac17d4",
   "metadata": {},
   "outputs": [
    {
     "name": "stdout",
     "output_type": "stream",
     "text": [
      "60\n"
     ]
    }
   ],
   "source": [
    "#1 getting product information using Selenium\n",
    "# Sir share link using selenium\n",
    "# https://selenium-python.readthedocs.io/locating-elements.html\n",
    "\n",
    "product_cards = driver.find_elements_by_class_name('col-xs-2-4')   #only class name\n",
    "time.sleep(5)\n",
    "print(len(product_cards))           # using selenium will getall cards in the page"
   ]
  },
  {
   "cell_type": "code",
   "execution_count": 8,
   "id": "d2a16adb",
   "metadata": {},
   "outputs": [],
   "source": [
    "single_card = product_cards[0]"
   ]
  },
  {
   "cell_type": "code",
   "execution_count": 9,
   "id": "7ba0834a",
   "metadata": {},
   "outputs": [
    {
     "name": "stdout",
     "output_type": "stream",
     "text": [
      "https://cf.shopee.com.my/file/6cc8827830345ba2990846c8759ac83d_tn\n"
     ]
    }
   ],
   "source": [
    "# Selenium Way#\n",
    "product_image = single_card.find_element_by_tag_name('img')\n",
    "productImg = product_image.get_attribute('src')\n",
    "print(productImg)    "
   ]
  },
  {
   "cell_type": "code",
   "execution_count": 10,
   "id": "7e97f1a2",
   "metadata": {},
   "outputs": [
    {
     "data": {
      "text/plain": [
       "''"
      ]
     },
     "execution_count": 10,
     "metadata": {},
     "output_type": "execute_result"
    }
   ],
   "source": [
    "# weakness if we put .text we will get nothing  \n",
    "product_image.text"
   ]
  },
  {
   "cell_type": "code",
   "execution_count": 11,
   "id": "fbfd1c8f",
   "metadata": {},
   "outputs": [],
   "source": [
    "# getting product information using Beautiful Soup\n",
    "# create Beautiful Soup\n",
    "\n",
    "soup = BeautifulSoup(driver.page_source, 'html.parser')"
   ]
  },
  {
   "cell_type": "code",
   "execution_count": 12,
   "id": "b15430f4",
   "metadata": {},
   "outputs": [
    {
     "name": "stdout",
     "output_type": "stream",
     "text": [
      "60\n"
     ]
    }
   ],
   "source": [
    "product_cards = soup.find_all('div','col-xs-2-4')\n",
    "print(len(product_cards))"
   ]
  },
  {
   "cell_type": "code",
   "execution_count": 13,
   "id": "f2e87070",
   "metadata": {},
   "outputs": [],
   "source": [
    "card = product_cards[0]"
   ]
  },
  {
   "cell_type": "code",
   "execution_count": 14,
   "id": "907de182",
   "metadata": {},
   "outputs": [],
   "source": [
    "# fetching the product Image infomration"
   ]
  },
  {
   "cell_type": "code",
   "execution_count": 15,
   "id": "4b5d0ca0",
   "metadata": {},
   "outputs": [
    {
     "name": "stdout",
     "output_type": "stream",
     "text": [
      "https://cf.shopee.com.my/file/6cc8827830345ba2990846c8759ac83d_tn\n"
     ]
    }
   ],
   "source": [
    "pImg = card.find('img')\n",
    "product_image = pImg['src']\n",
    "print(product_image)"
   ]
  },
  {
   "cell_type": "code",
   "execution_count": 16,
   "id": "83d36b33",
   "metadata": {},
   "outputs": [
    {
     "name": "stdout",
     "output_type": "stream",
     "text": [
      "New arrive Stright cut Women/Seluar Straight cut JEANS High class Kain WOMEN STRAIGHT CUT {Ready Stock}Hot sales\n"
     ]
    }
   ],
   "source": [
    "# fetching the product name\n",
    "\n",
    "product_name = card.find('div','_10Wbs- _5SSWfi UjjMrh').text.strip()\n",
    "print(product_name)\n",
    "   #strip gonna remove unnecessary spacing"
   ]
  },
  {
   "cell_type": "code",
   "execution_count": 17,
   "id": "dbe2ac4b",
   "metadata": {},
   "outputs": [
    {
     "name": "stdout",
     "output_type": "stream",
     "text": [
      "RM24.00\n"
     ]
    }
   ],
   "source": [
    "# fetching the product price\n",
    "\n",
    "product_price = card.find('div','zp9xm9 xSxKlK _1heB4J').text.strip()\n",
    "print(product_price)"
   ]
  },
  {
   "cell_type": "code",
   "execution_count": 18,
   "id": "7bc52a41",
   "metadata": {},
   "outputs": [
    {
     "name": "stdout",
     "output_type": "stream",
     "text": [
      "https://shopee.com.my/New-arrive-Stright-cut-Women-Seluar-Straight-cut-JEANS-High-class-Kain-WOMEN-STRAIGHT-CUT-Ready-Stock-Hot-sales-i.330657735.8866649483?ads_keyword=wkdaelpmissisiht&adsid=22381400&campaignid=12809418&position=0\n"
     ]
    }
   ],
   "source": [
    "# fetching the product buy link\n",
    "\n",
    "anchor_tag = card.a.get('href')\n",
    "product_buy_link = 'https://shopee.com.my'+anchor_tag\n",
    "print(product_buy_link)"
   ]
  },
  {
   "cell_type": "code",
   "execution_count": 19,
   "id": "b7277cf7",
   "metadata": {},
   "outputs": [],
   "source": [
    "# Task : lazada, any ecommerce from 2 website\n",
    "# image , product name price and link"
   ]
  }
 ],
 "metadata": {
  "kernelspec": {
   "display_name": "Python 3",
   "language": "python",
   "name": "python3"
  },
  "language_info": {
   "codemirror_mode": {
    "name": "ipython",
    "version": 3
   },
   "file_extension": ".py",
   "mimetype": "text/x-python",
   "name": "python",
   "nbconvert_exporter": "python",
   "pygments_lexer": "ipython3",
   "version": "3.8.8"
  }
 },
 "nbformat": 4,
 "nbformat_minor": 5
}
